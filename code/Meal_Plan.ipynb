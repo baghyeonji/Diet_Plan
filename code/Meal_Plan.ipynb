{
 "cells": [
  {
   "cell_type": "code",
   "execution_count": 1,
   "id": "b26d8409",
   "metadata": {},
   "outputs": [],
   "source": [
    "import pandas as pd\n",
    "import numpy as np"
   ]
  },
  {
   "cell_type": "code",
   "execution_count": null,
   "id": "104f8877",
   "metadata": {},
   "outputs": [],
   "source": [
    "data = pd.read_csv('빠른준비.csv',encoding='cp949')"
   ]
  },
  {
   "cell_type": "code",
   "execution_count": null,
   "id": "c55e9a07",
   "metadata": {},
   "outputs": [],
   "source": [
    "cols_to_convert = data.columns[1:7]\n",
    "\n",
    "# 선택한 열의 데이터 타입을 숫자로 변경\n",
    "data[cols_to_convert] = data[cols_to_convert].apply(pd.to_numeric, errors='coerce')\n",
    "data"
   ]
  },
  {
   "cell_type": "code",
   "execution_count": null,
   "id": "efc896da",
   "metadata": {},
   "outputs": [],
   "source": [
    "protein_data = data[0:21]\n",
    "protein_data"
   ]
  },
  {
   "cell_type": "code",
   "execution_count": null,
   "id": "e841ca29",
   "metadata": {},
   "outputs": [],
   "source": [
    "carbon_data = data[24:36]\n",
    "carbon_data"
   ]
  },
  {
   "cell_type": "code",
   "execution_count": null,
   "id": "30b7aa72",
   "metadata": {},
   "outputs": [],
   "source": [
    "vege_data = data[43:55]\n",
    "vege_data"
   ]
  },
  {
   "cell_type": "code",
   "execution_count": null,
   "id": "11e25385",
   "metadata": {},
   "outputs": [],
   "source": [
    "dairy_data = data[38:41]\n",
    "dairy_data"
   ]
  },
  {
   "cell_type": "code",
   "execution_count": null,
   "id": "68de3029",
   "metadata": {},
   "outputs": [],
   "source": [
    "# 탄수화물 함량이 높은 carbon_data, 단백질 함량이 높은 protein_data, 지방 함량이 높은 dairy_data, 그리고 야채 데이터인 vege_data\n",
    "# 4가지 데이터들은 모두 '재료명', '칼로리', '탄수화물', '단백질', '지방' ,'g' 이렇게 6가지 칼럼들로 구성\n",
    "# 탄수화물 : 단백질: 지방의 비율이 대략적으로 5:3:2나 4:4:2인 식단을 구성\n",
    "# carbon_data에서 한 데이터를 뽑고, protein_data에서 한 데이터를 뽑고, dairy_data나 vege_data에서는 데이터를 뽑을수도 있고 안뽑을 수도 있음\n",
    "# carbon_data에서 그래놀라, 시리얼, 오트밀이 나오면 이때는 반드시 dairy_data에서 하나를 뽑아야함"
   ]
  },
  {
   "cell_type": "code",
   "execution_count": null,
   "id": "1cbd04f1",
   "metadata": {},
   "outputs": [],
   "source": [
    "import random\n",
    "import pandas as pd\n",
    "\n",
    "# 조합을 저장할 리스트\n",
    "meal_combinations = []\n",
    "\n",
    "# 비율에 맞는 식단을 구성할 때까지 반복\n",
    "while True:\n",
    "    # carbon_data에서 한 데이터 뽑기\n",
    "    carbon_sample = random.choice(carbon_data.values)\n",
    "\n",
    "    # protein_data에서 한 데이터 뽑기\n",
    "    protein_sample = random.choice(protein_data.values)\n",
    "\n",
    "    # dairy_data나 vege_data에서 데이터 뽑을지 여부 랜덤 결정\n",
    "    include_dairy_data = False\n",
    "    include_vege_data = True\n",
    "\n",
    "    # dairy_data에서 데이터 뽑기\n",
    "    if include_dairy_data:\n",
    "        dairy_sample = random.choice(dairy_data.values)\n",
    "        meal_combinations.append(dairy_sample)\n",
    "\n",
    "    # vege_data에서 데이터 뽑기\n",
    "    if include_vege_data:\n",
    "        vege_sample = random.choice(vege_data.values)\n",
    "        meal_combinations.append(vege_sample)\n",
    "\n",
    "    # 조합 결과 출력\n",
    "    meal_combinations.append(carbon_sample)\n",
    "    meal_combinations.append(protein_sample)\n",
    "    meal_combinations_df = pd.DataFrame(meal_combinations, columns=['재료명', '칼로리', '탄수화물', '단백질', '지방', 'g'])\n",
    "\n",
    "    # 칼로리와 영양 정보 계산\n",
    "    total_carbs = meal_combinations_df['탄수화물'].sum()\n",
    "    total_protein = meal_combinations_df['단백질'].sum()\n",
    "    total_fat = meal_combinations_df['지방'].sum()\n",
    "    total_g = meal_combinations_df['g'].sum()\n",
    "    total_calories = meal_combinations_df['칼로리'].sum()\n",
    "\n",
    "    # 비율 계산\n",
    "    total_ratio = total_carbs + total_protein + total_fat\n",
    "    carb_ratio = (total_carbs / total_ratio) * 10\n",
    "    protein_ratio = (total_protein / total_ratio) * 10\n",
    "    fat_ratio = (total_fat / total_ratio) * 10\n",
    "    # 대략적인 비율과 비슷한지 확인\n",
    "    if (4.5 <= carb_ratio <= 5.5 and 2.7 <= protein_ratio <= 3.3 and 1.8 <= fat_ratio <= 2.2) or (3.6 <= carb_ratio <= 4.4 and 3.6 <= protein_ratio <= 4.4 and 1.8 <= fat_ratio <= 2.2):\n",
    "        # 조합된 식단과 영양 정보 출력\n",
    "        print(\"조합된 식단:\")\n",
    "        print(meal_combinations_df[['재료명', '칼로리', '탄수화물', '단백질', '지방', 'g']], '\\n')\n",
    "        print(f\"탄수화물:단백질:지방 비율: {carb_ratio:.1f}:{protein_ratio:.1f}:{fat_ratio:.1f}\")\n",
    "        print(f\"총 칼로리: {total_calories}\")\n",
    "        print(f\"총 탄수화물: {total_carbs}\")\n",
    "        print(f\"총 단백질: {total_protein}\")\n",
    "        print(f\"총 지방: {total_fat}\")\n",
    "        print(f\"총 g: {total_g}\")\n",
    "        break\n",
    "\n",
    "    # 대략적인 비율과 맞는 식단을 구성할 수 없는 경우 다시 조합을 시도\n",
    "    meal_combinations.clear()"
   ]
  }
 ],
 "metadata": {
  "kernelspec": {
   "display_name": "Python 3",
   "language": "python",
   "name": "python3"
  },
  "language_info": {
   "codemirror_mode": {
    "name": "ipython",
    "version": 3
   },
   "file_extension": ".py",
   "mimetype": "text/x-python",
   "name": "python",
   "nbconvert_exporter": "python",
   "pygments_lexer": "ipython3",
   "version": "3.8.8"
  }
 },
 "nbformat": 4,
 "nbformat_minor": 5
}
